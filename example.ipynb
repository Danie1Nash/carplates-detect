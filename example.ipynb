{
 "cells": [
  {
   "cell_type": "code",
   "execution_count": 4,
   "metadata": {},
   "outputs": [],
   "source": [
    "from src.model.detection import YoloInference\n",
    "from src.model.ocr"
   ]
  },
  {
   "cell_type": "code",
   "execution_count": 8,
   "metadata": {},
   "outputs": [],
   "source": [
    "YOLO_PATH = \"./weights/detection/yolov5.pt\"\n",
    "\n",
    "OCR_CONFIG = {\n",
    "    \"lang_list\": [\"en\"],\n",
    "    \"recog_network\": \"EasyOCR_custom\",\n",
    "    \"user_network_directory\": \"./src/models/\",\n",
    "    \"model_storage_directory\": \"./src/weights/ocr/\",\n",
    "    \"detector\": False,\n",
    "}"
   ]
  },
  {
   "cell_type": "code",
   "execution_count": 6,
   "metadata": {},
   "outputs": [
    {
     "name": "stderr",
     "output_type": "stream",
     "text": [
      "Using cache found in /home/cva/.cache/torch/hub/ultralytics_yolov5_master\n",
      "YOLOv5 🚀 2022-10-5 Python-3.8.16 torch-1.13.1+cu117 CUDA:0 (NVIDIA GeForce GTX 1660 Ti, 5928MiB)\n",
      "\n",
      "Fusing layers... \n",
      "custom_YOLOv5s summary: 157 layers, 7012822 parameters, 0 gradients\n",
      "Adding AutoShape... \n"
     ]
    }
   ],
   "source": [
    "detect_model = YoloInference(YOLO_PATH)\n"
   ]
  },
  {
   "cell_type": "code",
   "execution_count": null,
   "metadata": {},
   "outputs": [],
   "source": [
    "ocr_model = "
   ]
  }
 ],
 "metadata": {
  "kernelspec": {
   "display_name": ".venv",
   "language": "python",
   "name": "python3"
  },
  "language_info": {
   "codemirror_mode": {
    "name": "ipython",
    "version": 3
   },
   "file_extension": ".py",
   "mimetype": "text/x-python",
   "name": "python",
   "nbconvert_exporter": "python",
   "pygments_lexer": "ipython3",
   "version": "3.8.16"
  },
  "orig_nbformat": 4,
  "vscode": {
   "interpreter": {
    "hash": "838c7dd096bc3ecfb444fc4e43d4dce7ead511c36a3d638e5dd70926885a7f32"
   }
  }
 },
 "nbformat": 4,
 "nbformat_minor": 2
}
